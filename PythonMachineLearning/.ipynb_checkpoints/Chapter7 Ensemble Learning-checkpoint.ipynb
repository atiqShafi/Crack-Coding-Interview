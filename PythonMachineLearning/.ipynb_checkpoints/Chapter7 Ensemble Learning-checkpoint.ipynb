{
 "cells": [
  {
   "cell_type": "code",
   "execution_count": null,
   "metadata": {
    "collapsed": true
   },
   "outputs": [],
   "source": [
    "## 分析为什么集成学习比单个学习器要好？\n",
    "\n",
    "from scipy.misc import comb #计算组合数\n",
    "import math\n",
    "\n",
    "def ensemble_error(n_classifier,error):\n",
    "    k_start = math.ceil(n_classifier/2.0) #统计多少个分类器\n",
    "    probs = [comb(n_classifier,k) *\n",
    "            error**k *\n",
    "            (1-error)**(n_classifier-k)\n",
    "            for k in range(k_start,n_classifier+1)]\n",
    "    return sum(probs)"
   ]
  }
 ],
 "metadata": {
  "anaconda-cloud": {},
  "kernelspec": {
   "display_name": "Python [conda root]",
   "language": "python",
   "name": "conda-root-py"
  },
  "language_info": {
   "codemirror_mode": {
    "name": "ipython",
    "version": 3
   },
   "file_extension": ".py",
   "mimetype": "text/x-python",
   "name": "python",
   "nbconvert_exporter": "python",
   "pygments_lexer": "ipython3",
   "version": "3.5.2"
  }
 },
 "nbformat": 4,
 "nbformat_minor": 1
}
